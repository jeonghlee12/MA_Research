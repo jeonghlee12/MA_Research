{
 "cells": [
  {
   "cell_type": "code",
   "execution_count": 1,
   "id": "4f888dec",
   "metadata": {},
   "outputs": [],
   "source": [
    "import numpy as np\n",
    "import pandas as pd\n",
    "from collections import Counter\n",
    "import pickle"
   ]
  },
  {
   "cell_type": "markdown",
   "id": "16630183",
   "metadata": {},
   "source": [
    "# Data export code\n",
    "\n",
    "Takes simulated data and packages it into csv files for $\\LaTeX$ integration."
   ]
  },
  {
   "cell_type": "markdown",
   "id": "1fb843f3",
   "metadata": {},
   "source": [
    "---\n",
    "## Export data for Treatment 1"
   ]
  },
  {
   "cell_type": "code",
   "execution_count": 2,
   "id": "892cc3b2",
   "metadata": {},
   "outputs": [],
   "source": [
    "w_vars = [1, 2, 3, 4, 5]\n",
    "v_vars = [1, 2, 3, 4, 5]\n",
    "costs = [0.01, 0.3, 0.6,0.9,1.2,1.5]"
   ]
  },
  {
   "cell_type": "markdown",
   "id": "5e5c6cec",
   "metadata": {},
   "source": [
    "### Export choice prob for first alternative for all $\\sigma_w^2$ for all costs at $\\sigma_v^2=3$\n",
    "\n",
    "Variables are $\\sigma_w$"
   ]
  },
  {
   "cell_type": "code",
   "execution_count": 3,
   "id": "0ccfdd07",
   "metadata": {},
   "outputs": [],
   "source": [
    "w_a1 = pd.DataFrame() #x1a1\n",
    "\n",
    "for w_var in w_vars:\n",
    "    ind = 0\n",
    "    c_p6 = np.zeros(6)\n",
    "    for cost in costs:\n",
    "        with open('Data/collections_x' + str(w_var) + 'c' + str(cost) + '.pkl', \"rb\") as f:\n",
    "            data = pickle.load(f)\n",
    "        c_p = dict(Counter([i[0] for i in data]))\n",
    "        for keys in c_p.keys():\n",
    "            c_p[keys] = c_p[keys] / 1000.\n",
    "        c_p6[ind] = c_p[1]\n",
    "        ind = ind + 1\n",
    "    w_a1['w' + str(w_var)] = c_p6\n",
    "w_a1['index'] = costs\n",
    "w_a1.to_csv(\"Export files/w_a1.csv\", index=False)"
   ]
  },
  {
   "cell_type": "markdown",
   "id": "7e076f74",
   "metadata": {},
   "source": [
    "Variables are cost"
   ]
  },
  {
   "cell_type": "code",
   "execution_count": 4,
   "id": "ac544e77",
   "metadata": {},
   "outputs": [],
   "source": [
    "w_a1_bycost = pd.DataFrame()\n",
    "\n",
    "for cost in costs:\n",
    "    ind = 0\n",
    "    c_p6 = np.zeros(5)\n",
    "    for w_var in w_vars:\n",
    "        with open('Data/collections_x' + str(w_var) + 'c' + str(cost) + '.pkl', \"rb\") as f:\n",
    "            data = pickle.load(f)\n",
    "        c_p = dict(Counter([i[0] for i in data]))\n",
    "        for keys in c_p.keys():\n",
    "            c_p[keys] = c_p[keys] / 1000.\n",
    "        c_p6[ind] = c_p[1]\n",
    "        ind = ind + 1\n",
    "    w_a1_bycost['c' + str(cost)] = c_p6\n",
    "w_a1_bycost['index'] = w_vars\n",
    "w_a1_bycost.to_csv(\"Export files/w_a1_bycost.csv\", index=False)"
   ]
  },
  {
   "cell_type": "markdown",
   "id": "f04959e2",
   "metadata": {},
   "source": [
    "### Export choice prob for first alternative for all $\\sigma_v^2$ for all costs at $\\sigma_w^2=3$\n",
    "\n",
    "Variables are $\\sigma_v$"
   ]
  },
  {
   "cell_type": "code",
   "execution_count": 5,
   "id": "d69fe079",
   "metadata": {},
   "outputs": [],
   "source": [
    "v_a1 = pd.DataFrame()\n",
    "\n",
    "for v_var in v_vars:\n",
    "    ind = 0\n",
    "    c_p6 = np.zeros(6)\n",
    "    for cost in costs:\n",
    "        with open('Data/collections_v' + str(v_var) + 'c' + str(cost) + '.pkl', \"rb\") as f:\n",
    "            data = pickle.load(f)\n",
    "        c_p = dict(Counter([i[0] for i in data]))\n",
    "        for keys in c_p.keys():\n",
    "            c_p[keys] = c_p[keys] / 1000.\n",
    "        c_p6[ind] = c_p[1]\n",
    "        ind = ind + 1\n",
    "    v_a1['v' + str(v_var)] = c_p6\n",
    "v_a1['index'] = costs\n",
    "v_a1.to_csv(\"Export files/v_a1.csv\", index=False)"
   ]
  },
  {
   "cell_type": "markdown",
   "id": "f46fcc53",
   "metadata": {},
   "source": [
    "Variables are cost"
   ]
  },
  {
   "cell_type": "code",
   "execution_count": 6,
   "id": "18f98ac6",
   "metadata": {},
   "outputs": [],
   "source": [
    "v_a1_bycost = pd.DataFrame()\n",
    "\n",
    "for cost in costs:\n",
    "    ind = 0\n",
    "    c_p6 = np.zeros(5)\n",
    "    for v_var in v_vars:\n",
    "        with open('Data/collections_v' + str(v_var) + 'c' + str(cost) + '.pkl', \"rb\") as f:\n",
    "            data = pickle.load(f)\n",
    "        c_p = dict(Counter([i[0] for i in data]))\n",
    "        for keys in c_p.keys():\n",
    "            c_p[keys] = c_p[keys] / 1000.\n",
    "        c_p6[ind] = c_p[1]\n",
    "        ind = ind + 1\n",
    "    v_a1_bycost['v' + str(cost)] = c_p6\n",
    "v_a1_bycost['index'] = v_vars\n",
    "v_a1_bycost.to_csv(\"Export files/v_a1_bycost.csv\", index=False)"
   ]
  },
  {
   "cell_type": "markdown",
   "id": "57840e5f",
   "metadata": {},
   "source": [
    "---\n",
    "## Export Data for Treatment 2"
   ]
  },
  {
   "cell_type": "code",
   "execution_count": 7,
   "id": "f64274f3",
   "metadata": {},
   "outputs": [],
   "source": [
    "w_vars = [0.5, 1, 2, 3]\n",
    "v_vars_ratio = [0.5, 1, 2, 3, 4, 5]\n",
    "costs = [0.01, 0.3, 0.6,0.9,1.2,1.5]"
   ]
  },
  {
   "cell_type": "code",
   "execution_count": 8,
   "id": "385fa92a",
   "metadata": {},
   "outputs": [],
   "source": [
    "def export_treatment2(w):\n",
    "    data = pd.DataFrame()\n",
    "\n",
    "    for cost in costs:\n",
    "        ind = 0\n",
    "        c_p6 = np.zeros(6)\n",
    "        for ratio in v_vars_ratio:\n",
    "            with open('Data/collections_w' + str(w) + 'v' + str(float(w * ratio)) + 'c' + str(cost) + '.pkl', \"rb\") as f:\n",
    "                d = pickle.load(f)\n",
    "            c_p = dict(Counter([i[0] for i in d]))\n",
    "            for keys in c_p.keys():\n",
    "                c_p[keys] = c_p[keys] / 1000.\n",
    "            c_p6[ind] = c_p[1]\n",
    "            ind = ind + 1\n",
    "        data['c' + str(cost)] = c_p6\n",
    "    data['index'] = v_vars_ratio\n",
    "\n",
    "    data.to_csv(\"Export files/w\" + str(w) + \"a1.csv\", index=False)"
   ]
  },
  {
   "cell_type": "markdown",
   "id": "6850f374",
   "metadata": {},
   "source": [
    "### Export choice prob for first alternative for all $\\sigma_w^2$ for all costs at all $\\sigma_v^2$ ratios"
   ]
  },
  {
   "cell_type": "code",
   "execution_count": 9,
   "id": "31533eb8",
   "metadata": {},
   "outputs": [],
   "source": [
    "export_treatment2(0.5)\n",
    "export_treatment2(1)\n",
    "export_treatment2(2)\n",
    "export_treatment2(3)"
   ]
  },
  {
   "cell_type": "markdown",
   "id": "5ba47ad4",
   "metadata": {},
   "source": [
    "### Export choice prob for $\\sigma_w^2=0.5$, $\\sigma_v^2=0.25$ for all costs"
   ]
  },
  {
   "cell_type": "code",
   "execution_count": 10,
   "id": "64d1470f",
   "metadata": {},
   "outputs": [],
   "source": [
    "w05v025 = pd.DataFrame()\n",
    "for cost in costs:\n",
    "    with open('Data/collections_w0.5v0.25c' + str(cost) + '.pkl', \"rb\") as f:\n",
    "        data = pickle.load(f)\n",
    "    c_p = dict(Counter([i[0] for i in data]))\n",
    "    for keys in c_p.keys():\n",
    "        c_p[keys] = c_p[keys] / 1000.\n",
    "    c_p10 = np.zeros(10)\n",
    "    for k, v in c_p.items():\n",
    "        c_p10[int(k) - 1] = v\n",
    "    w05v025['c' + str(cost)] = c_p10\n",
    "w05v025['index'] = range(1,11)\n",
    "w05v025.to_csv(\"Export files/w0.5v0.25.csv\", index=False)"
   ]
  },
  {
   "cell_type": "markdown",
   "id": "a479a325",
   "metadata": {},
   "source": [
    "---\n",
    "## Export Table for Treatment 1"
   ]
  },
  {
   "cell_type": "code",
   "execution_count": 11,
   "id": "b39311f4",
   "metadata": {},
   "outputs": [],
   "source": [
    "w_vars = [1, 2, 3, 4, 5]\n",
    "v_vars = [1, 2, 3, 4, 5]\n",
    "costs = [0.01, 0.3, 0.6,0.9,1.2,1.5]"
   ]
  },
  {
   "cell_type": "code",
   "execution_count": 12,
   "id": "b8476e18",
   "metadata": {},
   "outputs": [],
   "source": [
    "treatment1_w = pd.DataFrame()\n",
    "a1_prob = np.zeros(len(w_vars) * len(costs))\n",
    "a3_prob = np.zeros(len(w_vars) * len(costs))\n",
    "mean_diff = np.zeros(len(w_vars) * len(costs))\n",
    "index = 0\n",
    "for x_var in w_vars:\n",
    "    for cost in costs:\n",
    "        with open('Data/collections_x' + str(x_var) + 'c' + str(cost) + '.pkl', \"rb\") as f:\n",
    "            data = pickle.load(f)\n",
    "        c_p = dict(Counter([i[0] for i in data]))\n",
    "        for keys in c_p.keys():\n",
    "            c_p[keys] = c_p[keys] / 1000.\n",
    "        a1_prob[index] = c_p[1]\n",
    "        for i in range(min(3,len(c_p))):\n",
    "            a3_prob[index] = a3_prob[index] + c_p[i + 1]\n",
    "        differences = [i[3] - i[4] for i in data]\n",
    "        mean_diff[index] = np.mean(differences)\n",
    "        index = index + 1\n",
    "treatment1_w['w'] = np.repeat(w_vars, len(costs))\n",
    "treatment1_w['costs'] = costs*len(w_vars)\n",
    "treatment1_w['Choice Prob for Alt. 1'] = a1_prob\n",
    "treatment1_w['Choice Prob for Top 3 Alt'] = a3_prob\n",
    "treatment1_w['Mean diff.'] = mean_diff\n",
    "treatment1_w.to_csv(\"Export files/table_treat1_w.csv\", index=False)"
   ]
  },
  {
   "cell_type": "code",
   "execution_count": 13,
   "id": "422c40c4",
   "metadata": {},
   "outputs": [],
   "source": [
    "treatment1_v = pd.DataFrame()\n",
    "a1_prob = np.zeros(len(v_vars) * len(costs))\n",
    "a3_prob = np.zeros(len(v_vars) * len(costs))\n",
    "mean_diff = np.zeros(len(v_vars) * len(costs))\n",
    "index = 0\n",
    "for x_var in v_vars:\n",
    "    for cost in costs:\n",
    "        with open('Data/collections_v' + str(x_var) + 'c' + str(cost) + '.pkl', \"rb\") as f:\n",
    "            data = pickle.load(f)\n",
    "        c_p = dict(Counter([i[0] for i in data]))\n",
    "        for keys in c_p.keys():\n",
    "            c_p[keys] = c_p[keys] / 1000.\n",
    "        a1_prob[index] = c_p[1]\n",
    "        for i in range(min(3,len(c_p))):\n",
    "            a3_prob[index] = a3_prob[index] + c_p[i + 1]\n",
    "        differences = [i[3] - i[4] for i in data]\n",
    "        mean_diff[index] = np.mean(differences)\n",
    "        index = index + 1\n",
    "treatment1_v['v'] = np.repeat(v_vars, len(costs))\n",
    "treatment1_v['costs'] = costs*len(v_vars)\n",
    "treatment1_v['Choice Prob for Alt. 1'] = a1_prob\n",
    "treatment1_v['Choice Prob for Top 3 Alt'] = a3_prob\n",
    "treatment1_v['Mean diff.'] = mean_diff\n",
    "treatment1_v.to_csv(\"Export files/table_treat1_v.csv\", index=False)"
   ]
  },
  {
   "cell_type": "markdown",
   "id": "3907515c",
   "metadata": {},
   "source": [
    "## Export Table for Treatment 2"
   ]
  },
  {
   "cell_type": "code",
   "execution_count": 14,
   "id": "c666e5ff",
   "metadata": {},
   "outputs": [],
   "source": [
    "w_vars = [0.5, 1, 2, 3]\n",
    "v_vars_ratio = [0.5, 1, 2, 3, 4, 5]\n",
    "costs = [0.01, 0.3, 0.6,0.9,1.2,1.5]\n",
    "\n",
    "treatment2 = pd.DataFrame()\n",
    "a1_prob = np.zeros(len(v_vars_ratio) * len(w_vars))\n",
    "a3_prob = np.zeros(len(v_vars_ratio) * len(w_vars))\n",
    "mean_diff = np.zeros(len(v_vars_ratio) * len(w_vars))\n",
    "index = 0\n",
    "for w_var in w_vars:\n",
    "    for ratio in v_vars_ratio:\n",
    "        with open('Data/collections_w' + str(w_var) + 'v' + str(float(w_var * ratio)) + 'c0.01.pkl', \"rb\") as f:\n",
    "            data = pickle.load(f)\n",
    "        c_p = dict(Counter([i[0] for i in data]))\n",
    "        for keys in c_p.keys():\n",
    "            c_p[keys] = c_p[keys] / 1000.\n",
    "        a1_prob[index] = c_p[1]\n",
    "        for i in range(min(3,len(c_p))):\n",
    "            a3_prob[index] = a3_prob[index] + c_p[i + 1]\n",
    "        differences = [i[3] - i[4] for i in data]\n",
    "        mean_diff[index] = np.mean(differences)\n",
    "        index = index + 1\n",
    "treatment2['w'] = np.repeat(w_vars, len(v_vars_ratio))\n",
    "treatment2['v_var_ratio'] = v_vars_ratio*len(w_vars)\n",
    "treatment2['Choice Prob for Alt. 1'] = a1_prob\n",
    "treatment2['Choice Prob for Top 3 Alt'] = a3_prob\n",
    "treatment2['Mean diff.'] = mean_diff\n",
    "treatment2.to_csv(\"Export files/table_treat2.csv\", index=False)"
   ]
  }
 ],
 "metadata": {
  "kernelspec": {
   "display_name": "Python 3 (ipykernel)",
   "language": "python",
   "name": "python3"
  },
  "language_info": {
   "codemirror_mode": {
    "name": "ipython",
    "version": 3
   },
   "file_extension": ".py",
   "mimetype": "text/x-python",
   "name": "python",
   "nbconvert_exporter": "python",
   "pygments_lexer": "ipython3",
   "version": "3.11.4"
  }
 },
 "nbformat": 4,
 "nbformat_minor": 5
}
